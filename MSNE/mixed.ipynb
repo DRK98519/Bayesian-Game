{
 "cells": [
  {
   "cell_type": "markdown",
   "metadata": {},
   "source": [
    "# Mixed strategy Nash EQ with `nashpy`\n",
    "\n",
    "Key function to learn \n",
    "* `G = nashpy.Game(U1, U2)`: takes two matrices in the same form as before \n",
    "    * Bonus: when `U1 + U2` is constant everywhere, we have a constant sum game, which is equivalent to a zero sum game. \n",
    "* `G.support_enumeration()`: Solves the game by support enumeration. Finds both pure and mixed strategy equilibria. \n"
   ]
  },
  {
   "cell_type": "code",
   "metadata": {
    "ExecuteTime": {
     "end_time": "2024-12-04T02:17:07.598625Z",
     "start_time": "2024-12-04T02:17:07.592737Z"
    }
   },
   "source": [
    "import numpy as np \n",
    "import pandas as pd\n",
    "import nashpy # install using \"pip install nashpy\"\n",
    "import matplotlib.pyplot as plt"
   ],
   "outputs": [],
   "execution_count": 2
  },
  {
   "cell_type": "code",
   "metadata": {
    "ExecuteTime": {
     "end_time": "2024-12-04T02:17:07.605892Z",
     "start_time": "2024-12-04T02:17:07.599624Z"
    }
   },
   "source": [
    "def print_payoffs(U, A): \n",
    "    '''print_payoffs: Nicely formatted for a 2*2 game \n",
    "        INPUTS: \n",
    "            U1,U2: (matrices, dim=na1*na2) Payoffs \n",
    "            A1: (list of str, len=na1) List of actions of player 1\n",
    "            A2: (list of str, len=na2) list of actions of player 2\n",
    "        \n",
    "        OUTPUT:\n",
    "            tab: pandas dataframe, na1*na2 with payoff tuples \n",
    "    '''\n",
    "    assert len(U) == 2, f'only implemented for 2-player games'\n",
    "    assert len(A) == 2, f'only implemented for 2-player games'\n",
    "\n",
    "    U1 = U[0]\n",
    "    U2 = U[1]\n",
    "    A1 = A[0]\n",
    "    A2 = A[1]\n",
    "\n",
    "    na1,na2 = U1.shape\n",
    "    assert len(A1) == na1\n",
    "    assert len(A2) == na2\n",
    "\n",
    "    # \"matrix\" of tuples \n",
    "    X = [[(U1[r,c],U2[r,c]) for c in range(na2)] for r in range(na1)]\n",
    "\n",
    "    # dataframe version \n",
    "    tab = pd.DataFrame(X, columns=A2, index=A1)\n",
    "    \n",
    "    return tab "
   ],
   "outputs": [],
   "execution_count": 3
  },
  {
   "cell_type": "markdown",
   "metadata": {},
   "source": [
    "# Start"
   ]
  },
  {
   "cell_type": "code",
   "metadata": {
    "ExecuteTime": {
     "end_time": "2024-12-03T21:24:20.868201Z",
     "start_time": "2024-12-03T21:24:20.863255Z"
    }
   },
   "source": [
    "U1 = np.array([[0,1,-1], [-1,0,1], [1,-1,0]])\n",
    "U2 = -U1\n",
    "A1 = ['sten', 'saks','papir']\n",
    "A2 = A1"
   ],
   "outputs": [],
   "execution_count": 5
  },
  {
   "cell_type": "code",
   "metadata": {
    "ExecuteTime": {
     "end_time": "2024-12-03T21:24:21.953459Z",
     "start_time": "2024-12-03T21:24:21.935033Z"
    }
   },
   "source": [
    "print_payoffs([U1, U2], [A1, A2])"
   ],
   "outputs": [
    {
     "data": {
      "text/plain": [
       "          sten     saks    papir\n",
       "sten    (0, 0)  (1, -1)  (-1, 1)\n",
       "saks   (-1, 1)   (0, 0)  (1, -1)\n",
       "papir  (1, -1)  (-1, 1)   (0, 0)"
      ],
      "text/html": [
       "<div>\n",
       "<style scoped>\n",
       "    .dataframe tbody tr th:only-of-type {\n",
       "        vertical-align: middle;\n",
       "    }\n",
       "\n",
       "    .dataframe tbody tr th {\n",
       "        vertical-align: top;\n",
       "    }\n",
       "\n",
       "    .dataframe thead th {\n",
       "        text-align: right;\n",
       "    }\n",
       "</style>\n",
       "<table border=\"1\" class=\"dataframe\">\n",
       "  <thead>\n",
       "    <tr style=\"text-align: right;\">\n",
       "      <th></th>\n",
       "      <th>sten</th>\n",
       "      <th>saks</th>\n",
       "      <th>papir</th>\n",
       "    </tr>\n",
       "  </thead>\n",
       "  <tbody>\n",
       "    <tr>\n",
       "      <th>sten</th>\n",
       "      <td>(0, 0)</td>\n",
       "      <td>(1, -1)</td>\n",
       "      <td>(-1, 1)</td>\n",
       "    </tr>\n",
       "    <tr>\n",
       "      <th>saks</th>\n",
       "      <td>(-1, 1)</td>\n",
       "      <td>(0, 0)</td>\n",
       "      <td>(1, -1)</td>\n",
       "    </tr>\n",
       "    <tr>\n",
       "      <th>papir</th>\n",
       "      <td>(1, -1)</td>\n",
       "      <td>(-1, 1)</td>\n",
       "      <td>(0, 0)</td>\n",
       "    </tr>\n",
       "  </tbody>\n",
       "</table>\n",
       "</div>"
      ]
     },
     "execution_count": 6,
     "metadata": {},
     "output_type": "execute_result"
    }
   ],
   "execution_count": 6
  },
  {
   "cell_type": "code",
   "metadata": {
    "ExecuteTime": {
     "end_time": "2024-12-03T21:24:23.264177Z",
     "start_time": "2024-12-03T21:24:23.260640Z"
    }
   },
   "source": [
    "G = nashpy.Game(U1,U2)"
   ],
   "outputs": [],
   "execution_count": 7
  },
  {
   "cell_type": "code",
   "metadata": {
    "ExecuteTime": {
     "end_time": "2024-12-03T21:24:24.301143Z",
     "start_time": "2024-12-03T21:24:24.296098Z"
    }
   },
   "source": [
    "sol = G.support_enumeration()"
   ],
   "outputs": [],
   "execution_count": 8
  },
  {
   "cell_type": "code",
   "metadata": {
    "ExecuteTime": {
     "end_time": "2024-12-03T21:24:25.120003Z",
     "start_time": "2024-12-03T21:24:25.079742Z"
    }
   },
   "source": [
    "sol = list(sol)"
   ],
   "outputs": [],
   "execution_count": 9
  },
  {
   "cell_type": "markdown",
   "metadata": {},
   "source": [
    "An asymmetric zero sum game"
   ]
  },
  {
   "cell_type": "code",
   "metadata": {
    "ExecuteTime": {
     "end_time": "2024-12-03T21:24:28.359793Z",
     "start_time": "2024-12-03T21:24:28.349048Z"
    }
   },
   "source": [
    "U1 = np.array([[0,2,-1], [-1,0,1], [1,-3,0]])\n",
    "U2 = -U1\n",
    "\n",
    "print_payoffs([U1, U2], [A1, A2])"
   ],
   "outputs": [
    {
     "data": {
      "text/plain": [
       "          sten     saks    papir\n",
       "sten    (0, 0)  (2, -2)  (-1, 1)\n",
       "saks   (-1, 1)   (0, 0)  (1, -1)\n",
       "papir  (1, -1)  (-3, 3)   (0, 0)"
      ],
      "text/html": [
       "<div>\n",
       "<style scoped>\n",
       "    .dataframe tbody tr th:only-of-type {\n",
       "        vertical-align: middle;\n",
       "    }\n",
       "\n",
       "    .dataframe tbody tr th {\n",
       "        vertical-align: top;\n",
       "    }\n",
       "\n",
       "    .dataframe thead th {\n",
       "        text-align: right;\n",
       "    }\n",
       "</style>\n",
       "<table border=\"1\" class=\"dataframe\">\n",
       "  <thead>\n",
       "    <tr style=\"text-align: right;\">\n",
       "      <th></th>\n",
       "      <th>sten</th>\n",
       "      <th>saks</th>\n",
       "      <th>papir</th>\n",
       "    </tr>\n",
       "  </thead>\n",
       "  <tbody>\n",
       "    <tr>\n",
       "      <th>sten</th>\n",
       "      <td>(0, 0)</td>\n",
       "      <td>(2, -2)</td>\n",
       "      <td>(-1, 1)</td>\n",
       "    </tr>\n",
       "    <tr>\n",
       "      <th>saks</th>\n",
       "      <td>(-1, 1)</td>\n",
       "      <td>(0, 0)</td>\n",
       "      <td>(1, -1)</td>\n",
       "    </tr>\n",
       "    <tr>\n",
       "      <th>papir</th>\n",
       "      <td>(1, -1)</td>\n",
       "      <td>(-3, 3)</td>\n",
       "      <td>(0, 0)</td>\n",
       "    </tr>\n",
       "  </tbody>\n",
       "</table>\n",
       "</div>"
      ]
     },
     "execution_count": 10,
     "metadata": {},
     "output_type": "execute_result"
    }
   ],
   "execution_count": 10
  },
  {
   "cell_type": "code",
   "metadata": {
    "ExecuteTime": {
     "end_time": "2024-12-03T21:24:30.138779Z",
     "start_time": "2024-12-03T21:24:30.126465Z"
    }
   },
   "source": [
    "sol = nashpy.Game(U1,U2).support_enumeration()\n",
    "list(sol)"
   ],
   "outputs": [
    {
     "data": {
      "text/plain": [
       "[(array([0.38888889, 0.33333333, 0.27777778]),\n",
       "  array([0.44444444, 0.16666667, 0.38888889]))]"
      ]
     },
     "execution_count": 11,
     "metadata": {},
     "output_type": "execute_result"
    }
   ],
   "execution_count": 11
  },
  {
   "cell_type": "markdown",
   "metadata": {},
   "source": [
    "# More complex"
   ]
  },
  {
   "cell_type": "code",
   "metadata": {
    "ExecuteTime": {
     "end_time": "2024-12-03T21:24:32.659357Z",
     "start_time": "2024-12-03T21:24:32.646431Z"
    }
   },
   "source": [
    "U1 = np.array([ \n",
    "[8,\t9,\t5,\t4,\t8], \n",
    "[9,\t1,\t7,\t5,\t4],  \n",
    "[5,\t7,\t2,\t9,\t7],  \n",
    "[3,\t9,\t2,\t0,\t6],  \n",
    "[7,\t5,\t3,\t0,\t2]])\n",
    "\n",
    "U2 = np.array([ \n",
    "[2,\t7,\t5,\t6,\t3], \n",
    "[4,\t0,\t6,\t8,\t1],  \n",
    "[4,\t9,\t8,\t6,\t0],  \n",
    "[4,\t8,\t2,\t1,\t3],  \n",
    "[4,\t4,\t9,\t4,\t2]])\n",
    "\n",
    "U = [U1, U2]\n",
    "\n",
    "A1 = ['Run', 'Hide', 'Play dead', 'Fight', 'Freeze']\n",
    "A2 = A1\n",
    "A = [A1, A2]\n",
    "print_payoffs(U, A)"
   ],
   "outputs": [
    {
     "data": {
      "text/plain": [
       "              Run    Hide Play dead   Fight  Freeze\n",
       "Run        (8, 2)  (9, 7)    (5, 5)  (4, 6)  (8, 3)\n",
       "Hide       (9, 4)  (1, 0)    (7, 6)  (5, 8)  (4, 1)\n",
       "Play dead  (5, 4)  (7, 9)    (2, 8)  (9, 6)  (7, 0)\n",
       "Fight      (3, 4)  (9, 8)    (2, 2)  (0, 1)  (6, 3)\n",
       "Freeze     (7, 4)  (5, 4)    (3, 9)  (0, 4)  (2, 2)"
      ],
      "text/html": [
       "<div>\n",
       "<style scoped>\n",
       "    .dataframe tbody tr th:only-of-type {\n",
       "        vertical-align: middle;\n",
       "    }\n",
       "\n",
       "    .dataframe tbody tr th {\n",
       "        vertical-align: top;\n",
       "    }\n",
       "\n",
       "    .dataframe thead th {\n",
       "        text-align: right;\n",
       "    }\n",
       "</style>\n",
       "<table border=\"1\" class=\"dataframe\">\n",
       "  <thead>\n",
       "    <tr style=\"text-align: right;\">\n",
       "      <th></th>\n",
       "      <th>Run</th>\n",
       "      <th>Hide</th>\n",
       "      <th>Play dead</th>\n",
       "      <th>Fight</th>\n",
       "      <th>Freeze</th>\n",
       "    </tr>\n",
       "  </thead>\n",
       "  <tbody>\n",
       "    <tr>\n",
       "      <th>Run</th>\n",
       "      <td>(8, 2)</td>\n",
       "      <td>(9, 7)</td>\n",
       "      <td>(5, 5)</td>\n",
       "      <td>(4, 6)</td>\n",
       "      <td>(8, 3)</td>\n",
       "    </tr>\n",
       "    <tr>\n",
       "      <th>Hide</th>\n",
       "      <td>(9, 4)</td>\n",
       "      <td>(1, 0)</td>\n",
       "      <td>(7, 6)</td>\n",
       "      <td>(5, 8)</td>\n",
       "      <td>(4, 1)</td>\n",
       "    </tr>\n",
       "    <tr>\n",
       "      <th>Play dead</th>\n",
       "      <td>(5, 4)</td>\n",
       "      <td>(7, 9)</td>\n",
       "      <td>(2, 8)</td>\n",
       "      <td>(9, 6)</td>\n",
       "      <td>(7, 0)</td>\n",
       "    </tr>\n",
       "    <tr>\n",
       "      <th>Fight</th>\n",
       "      <td>(3, 4)</td>\n",
       "      <td>(9, 8)</td>\n",
       "      <td>(2, 2)</td>\n",
       "      <td>(0, 1)</td>\n",
       "      <td>(6, 3)</td>\n",
       "    </tr>\n",
       "    <tr>\n",
       "      <th>Freeze</th>\n",
       "      <td>(7, 4)</td>\n",
       "      <td>(5, 4)</td>\n",
       "      <td>(3, 9)</td>\n",
       "      <td>(0, 4)</td>\n",
       "      <td>(2, 2)</td>\n",
       "    </tr>\n",
       "  </tbody>\n",
       "</table>\n",
       "</div>"
      ]
     },
     "execution_count": 12,
     "metadata": {},
     "output_type": "execute_result"
    }
   ],
   "execution_count": 12
  },
  {
   "cell_type": "code",
   "metadata": {
    "ExecuteTime": {
     "end_time": "2024-12-03T21:24:33.666184Z",
     "start_time": "2024-12-03T21:24:33.661565Z"
    }
   },
   "source": [
    "G = nashpy.Game(U1,U2)\n",
    "G"
   ],
   "outputs": [
    {
     "data": {
      "text/plain": [
       "Bi matrix game with payoff matrices:\n",
       "\n",
       "Row player:\n",
       "[[8 9 5 4 8]\n",
       " [9 1 7 5 4]\n",
       " [5 7 2 9 7]\n",
       " [3 9 2 0 6]\n",
       " [7 5 3 0 2]]\n",
       "\n",
       "Column player:\n",
       "[[2 7 5 6 3]\n",
       " [4 0 6 8 1]\n",
       " [4 9 8 6 0]\n",
       " [4 8 2 1 3]\n",
       " [4 4 9 4 2]]"
      ]
     },
     "execution_count": 13,
     "metadata": {},
     "output_type": "execute_result"
    }
   ],
   "execution_count": 13
  },
  {
   "cell_type": "code",
   "metadata": {
    "ExecuteTime": {
     "end_time": "2024-12-03T21:24:34.586537Z",
     "start_time": "2024-12-03T21:24:34.495928Z"
    }
   },
   "source": [
    "sol = list(G.support_enumeration())\n",
    "sol"
   ],
   "outputs": [
    {
     "data": {
      "text/plain": [
       "[(array([1., 0., 0., 0., 0.]), array([0., 1., 0., 0., 0.])),\n",
       " (array([0., 0., 0., 1., 0.]), array([0., 1., 0., 0., 0.])),\n",
       " (array([0.4, 0.2, 0.4, 0. , 0. ]),\n",
       "  array([3.70074342e-17, 1.64556962e-01, 4.81012658e-01, 3.54430380e-01,\n",
       "         0.00000000e+00]))]"
      ]
     },
     "execution_count": 14,
     "metadata": {},
     "output_type": "execute_result"
    }
   ],
   "execution_count": 14
  },
  {
   "cell_type": "code",
   "metadata": {
    "ExecuteTime": {
     "end_time": "2024-12-03T21:24:37.908025Z",
     "start_time": "2024-12-03T21:24:37.106443Z"
    }
   },
   "source": [
    "print(f'Plotting results for {len(sol)} equilibria')\n",
    "for i,eq in enumerate(sol): \n",
    "    fig,axs  = plt.subplots(2)\n",
    "    fig.suptitle(f'Equilibrium {i}')\n",
    "    axs[0].bar(A1, eq[0], label=f'player 1')\n",
    "    axs[1].bar(A2, eq[1], label=f'player 2')"
   ],
   "outputs": [
    {
     "name": "stdout",
     "output_type": "stream",
     "text": [
      "Plotting results for 3 equilibria\n"
     ]
    },
    {
     "data": {
      "text/plain": [
       "<Figure size 640x480 with 2 Axes>"
      ],
      "image/png": "[encoded data removed]"
     },
     "metadata": {},
     "output_type": "display_data"
    },
    {
     "data": {
      "text/plain": [
       "<Figure size 640x480 with 2 Axes>"
      ],
      "image/png": "[encoded data removed]"
     },
     "metadata": {},
     "output_type": "display_data"
    },
    {
     "data": {
      "text/plain": [
       "<Figure size 640x480 with 2 Axes>"
      ],
      "image/png": "[encoded data removed]"
     },
     "metadata": {},
     "output_type": "display_data"
    }
   ],
   "execution_count": 15
  },
  {
   "cell_type": "markdown",
   "metadata": {},
   "source": [
    "**Conclusion:** It turns out that this game had, in addition to the two pure strategy equilibria, an additional equilibrium in mixed strategies. This equilibrium only has three of the five strategies in the support for both players. "
   ]
  },
  {
   "cell_type": "code",
   "metadata": {
    "ExecuteTime": {
     "end_time": "2024-12-03T21:24:46.009508Z",
     "start_time": "2024-12-03T21:24:46.005656Z"
    }
   },
   "source": [
    "a1,a2 = sol[2]"
   ],
   "outputs": [],
   "execution_count": 16
  },
  {
   "cell_type": "markdown",
   "metadata": {},
   "source": [
    "Let's compute the expected utilities to player 1 from choosing each of the pure strategies available: "
   ]
  },
  {
   "cell_type": "code",
   "metadata": {
    "ExecuteTime": {
     "end_time": "2024-12-03T21:27:00.207205Z",
     "start_time": "2024-12-03T21:27:00.198879Z"
    }
   },
   "source": [
    "Eu1 = U1@a2 # matrix * vector = vector \n",
    "pd.DataFrame(zip(A[0], Eu1), columns=['action', 'expected utility'])"
   ],
   "outputs": [
    {
     "data": {
      "text/plain": [
       "      action  expected utility\n",
       "0        Run          5.303797\n",
       "1       Hide          5.303797\n",
       "2  Play dead          5.303797\n",
       "3      Fight          2.443038\n",
       "4     Freeze          2.265823"
      ],
      "text/html": [
       "<div>\n",
       "<style scoped>\n",
       "    .dataframe tbody tr th:only-of-type {\n",
       "        vertical-align: middle;\n",
       "    }\n",
       "\n",
       "    .dataframe tbody tr th {\n",
       "        vertical-align: top;\n",
       "    }\n",
       "\n",
       "    .dataframe thead th {\n",
       "        text-align: right;\n",
       "    }\n",
       "</style>\n",
       "<table border=\"1\" class=\"dataframe\">\n",
       "  <thead>\n",
       "    <tr style=\"text-align: right;\">\n",
       "      <th></th>\n",
       "      <th>action</th>\n",
       "      <th>expected utility</th>\n",
       "    </tr>\n",
       "  </thead>\n",
       "  <tbody>\n",
       "    <tr>\n",
       "      <th>0</th>\n",
       "      <td>Run</td>\n",
       "      <td>5.303797</td>\n",
       "    </tr>\n",
       "    <tr>\n",
       "      <th>1</th>\n",
       "      <td>Hide</td>\n",
       "      <td>5.303797</td>\n",
       "    </tr>\n",
       "    <tr>\n",
       "      <th>2</th>\n",
       "      <td>Play dead</td>\n",
       "      <td>5.303797</td>\n",
       "    </tr>\n",
       "    <tr>\n",
       "      <th>3</th>\n",
       "      <td>Fight</td>\n",
       "      <td>2.443038</td>\n",
       "    </tr>\n",
       "    <tr>\n",
       "      <th>4</th>\n",
       "      <td>Freeze</td>\n",
       "      <td>2.265823</td>\n",
       "    </tr>\n",
       "  </tbody>\n",
       "</table>\n",
       "</div>"
      ]
     },
     "execution_count": 17,
     "metadata": {},
     "output_type": "execute_result"
    }
   ],
   "execution_count": 17
  },
  {
   "cell_type": "markdown",
   "metadata": {},
   "source": [
    "We see that the three strategies in the support, `Run, Hide, Play dead`, each give the exact same utility, while the two other strategies not in the support give lower utilities. This makes sense given that \n",
    "1. a player must be indifferent between the pure strategies in the support of a mixed strategy in order to be willing to mix (otherwise, choosing the pure strategy with the highest expected utility is better than mixing), \n",
    "2. the two pure strategies outside the support give worse expected utility than those in the support (otherwise the mix over those three would be dominated). "
   ]
  }
 ],
 "metadata": {
  "kernelspec": {
   "display_name": "Python 3",
   "language": "python",
   "name": "python3"
  },
  "language_info": {
   "codemirror_mode": {
    "name": "ipython",
    "version": 3
   },
   "file_extension": ".py",
   "mimetype": "text/x-python",
   "name": "python",
   "nbconvert_exporter": "python",
   "pygments_lexer": "ipython3",
   "version": "3.8.2"
  }
 },
 "nbformat": 4,
 "nbformat_minor": 4
}
