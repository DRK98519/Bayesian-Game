{
 "cells": [
  {
   "cell_type": "markdown",
   "metadata": {},
   "source": [
    "# Bayesian Nash Equilibrium in double bi-matrix games\n",
    "\n",
    "This notebook introduces a solution method suggested by William Spaniel for analyzing bimatrix games where one of the players can have multiple types in this video: https://youtu.be/E0_CA9TwZ8c. It is recommended to check the video out in order to fully understand how and why the method works. This code solve BNE for an ex ante Bayesian game."
   ]
  },
  {
   "cell_type": "code",
   "metadata": {
    "ExecuteTime": {
     "end_time": "2024-12-14T20:08:01.907540Z",
     "start_time": "2024-12-14T20:08:01.853193Z"
    }
   },
   "source": [
    "import pandas as pd \n",
    "import numpy as np \n",
    "import itertools\n",
    "import nashpy\n",
    "import bimatrix"
   ],
   "outputs": [],
   "execution_count": 2
  },
  {
   "cell_type": "markdown",
   "metadata": {},
   "source": [
    "Player types \n",
    "* Player 1: always a stag hunt type, \n",
    "* Player 2: with prob. `p`, she is PD, and `1-p`, she is SH. \n",
    "\n",
    "Payoffs: a payoff matrix *list* for each player: one payoff matrix for each type that player 2 can have. "
   ]
  },
  {
   "cell_type": "code",
   "metadata": {
    "ExecuteTime": {
     "end_time": "2024-12-14T20:08:01.918649Z",
     "start_time": "2024-12-14T20:08:01.909550Z"
    }
   },
   "source": [
    "def compute_full_matrix(U1, U2, p, action_names=None): \n",
    "    '''\n",
    "        Assumes that only player 2's type varies \n",
    "        (this means that player 1 has one action per row in U1, \n",
    "         while 2 has nA2**2 (one choice per type))\n",
    "        Both players have one utility matrix for each realization \n",
    "        of player 2's type. \n",
    "         \n",
    "        INPUTS: \n",
    "            U1: list of 2 payoff matrices for player 1 (row player)\n",
    "            U2: list of 2 payoff matrices for player 2 (column player)\n",
    "            p: (scalar) Probability that player 2 is the first type \n",
    "            action_names: [optional] 2-list of names of actions (nA1 and nA2 long)\n",
    "        OUTPUTS: \n",
    "            t1, t2: wide-form payoff matrices suitable for finding the NE \n",
    "            A1, A2: names of actions \n",
    "    '''\n",
    "    assert len(U1) == 2\n",
    "    assert len(U2) == 2\n",
    "    assert np.isscalar(p)\n",
    "    nA1, nA2 = U1[0].shape  # Number of actions for player 1 and 2\n",
    "    \n",
    "    t1 = np.empty((nA1, nA2*nA2))\n",
    "    t2 = np.empty((nA1, nA2*nA2))\n",
    "    \n",
    "    # player 1 chooses an action without knowing what type 2 is \n",
    "    for ia1 in range(nA1): \n",
    "        i_col = 0 \n",
    "        \n",
    "        # player 2 chooses an action conditional on observing her type \n",
    "        for a2_1 in range(nA2): \n",
    "            for a2_2 in range(nA2): \n",
    "                # Ex-ante\n",
    "                t1[ia1,i_col] = p * U1[0][ia1,a2_1] + (1.-p) * U1[1][ia1,a2_2]\n",
    "                t2[ia1,i_col] = p * U2[0][ia1,a2_1] + (1.-p) * U2[1][ia1,a2_2]\n",
    "                \n",
    "                i_col += 1\n",
    "                \n",
    "    if action_names is None: \n",
    "        A1 = [f'{i}' for i in range(nA1)]\n",
    "        A2 = [f'{a}{b}' for a in range(nA2) for b in range(nA2)]\n",
    "    else: \n",
    "        assert len(action_names) == 2 \n",
    "        A1 = action_names[0]\n",
    "        assert len(A1) == nA1, f'Incorrect # of action names'\n",
    "        a2 = action_names[1]\n",
    "        assert len(a2) == nA2, f'Incorrect # of action names'\n",
    "        \n",
    "        A2 = [f'{a}{b}' for a in a2 for b in a2]\n",
    "        \n",
    "    return t1, t2, A1, A2"
   ],
   "outputs": [],
   "execution_count": 3
  },
  {
   "cell_type": "markdown",
   "metadata": {},
   "source": [
    "# Spaniel's example\n",
    "\n",
    "* Player 1 just has one type and receives Stag Hunt payoffs regardless \n",
    "* Player 2 can be two types: Prisoner's Dilemma type (probability 0.2) or Stag Hunt type (probability 0.8).\n",
    "\n",
    "Ex Ante Bayesian game formulation, $\\Gamma = (\\mathcal{N}, (\\mathcal{T}_n)_n, (\\mathcal{A}_n)_n, (u_n)_n, (p(\\cdot\\,|\\,t_n))_{t_n, n}, (p(t_n))_{t_n, n})$, where\n",
    "* Player set, $\\mathcal{N}=\\{$player 1, player 2$\\}$\n",
    "* Type set, $\\mathcal{T}_1=\\{$Stag hunt$\\}$, $\\mathcal{T}_2 = \\{$ Prisoner's dilemma, Stag hunt$\\}$\n",
    "* Action space, $\\mathcal{A}_1 = \\{$U, D$\\}$, $\\mathcal{A}_2 = \\{$L, R$\\}$\n",
    "* Utility, $u_1(t_1, t_2, a_1, a_2)\\in \\mathbb{R}$, $u_2(t_1, t_2, a_1, a_2) \\in \\mathbb{R}$\n",
    "* Belief system\n",
    "\\begin{align*}\n",
    "p(t_1 = \\text{Stag hunt}\\,|\\, t_2 = \\text{Stag hunt})=1 &, p(t_1=\\text{Stag hunt}\\,|\\,t_2 = \\text{Prisoner's dilemma})=1\\\\\n",
    "p(t_1 = \\text{Stag hunt}\\,|\\, t_2 = \\text{Stag hunt})=0.8 &, p(t_1=\\text{Prisoner's dilemma}\\,|\\,t_2 = \\text{Stag hunt})=0.2\n",
    "\\end{align*}\n",
    "* Prior distribution over types, \n",
    "\\begin{align*}\n",
    "p(t_1=\\text{Stag hunt})&=1\\\\\n",
    "p(t_2 = \\text{Stag hunt})&=0.8, p(t_2 = \\text{Prisoner's dilemma})=0.2\n",
    "\\end{align*}\n",
    "# Ex ante expected utility (General form)\n",
    "$U_n(\\pi_n, \\pi_{-n}) = \\sum_{t_n \\in \\mathcal{T}_n}p(t_n) \\sum_{t_{-n}\\in \\mathcal{T}_{-n}} p(t_{-n}\\,|\\,t_n) \\sum_{a\\in \\mathcal{A}} \\left(\\prod_{i\\in\\mathcal{N}}\\pi_i(t_i)(a_i)\\right)u_n(t_n, t_{-n}, a_n, a_{-n})$\n",
    "\n",
    "# Ex ante Bayesian Nash Equilibrium\n",
    "The strategy profile $\\pi^*$ is an ex ante Bayesian Nash equilibrium if $U_n(\\pi_n^*, \\pi_{_n}^*)\\geq U_n(\\pi_n, \\pi_{-n}^*)$ for all $\\pi_n$ and all $n$."
   ]
  },
  {
   "cell_type": "code",
   "metadata": {
    "ExecuteTime": {
     "end_time": "2024-12-14T20:08:18.894209Z",
     "start_time": "2024-12-14T20:08:18.885902Z"
    }
   },
   "source": [
    "# Pr(player 2 is the PD type)\n",
    "p = 0.2\n",
    "p_distri = {'PD_2':p, 'SH_2':1-p}\n",
    "prior_2 = p_distri\n",
    "\n",
    "# Pr(player 1 is the SH type)\n",
    "q = 1.0\n",
    "q_distri = {'SH_1':q}\n",
    "prior_1 = q_distri \n",
    "\n",
    "# player 1 \n",
    "u11  = np.array([[3,0], [2,1]])\n",
    "# U1 = [u11, u11] # player 1 has same payoffs regardless of 2's type\n",
    "U11 = [u11, u11]\n",
    "a1 = ['U','D']\n",
    "A1 = [f'{a}' for a in a1]\n",
    "# A1 = ['U', 'D']\n",
    "\n",
    "T1 = ['SH_1']\n",
    "U1 = [u11]\n",
    "\n",
    "# player 2\n",
    "u21 = np.array([[3,4],[1,2]]) # prisoner's dilemma (player 2 type 1)\n",
    "u22 = np.array([[3,2],[0,1]]) # stag hunt (player 2 type 2)\n",
    "U2 = [u21, u22]\n",
    "a2 = ['L', 'R']\n",
    "A2 = [f'{a}{b}' for a in a2 for b in a2]\n",
    "\n",
    "\n",
    "T2 = ['PD_2', 'SH_2']"
   ],
   "outputs": [],
   "execution_count": 4
  },
  {
   "metadata": {},
   "cell_type": "markdown",
   "source": [
    "The following two tables are tables of $\\sum_{a\\in \\mathcal{A}} \\left(\\prod_{i\\in\\mathcal{N}}\\pi_i(t_i)(a_i)\\right)u_n(t_n, t_{-n}, a_n, a_{-n})$ for both players $n$ under all pure strategy $(\\pi_n(t_n), \\pi_{-n}(t_{-n}))$ with all pairs of $(t_n , t_{-n})$.\n",
    "\n",
    "* Here, all pairs of $(t_n, t_{-n})$: $(t_{11}, t_{21}), (t_{11}, t_{22})$\n",
    "\n",
    "* Therefore, we have two payoff matrix systems."
   ]
  },
  {
   "metadata": {
    "ExecuteTime": {
     "end_time": "2024-12-14T20:08:19.995512Z",
     "start_time": "2024-12-14T20:08:19.975468Z"
    }
   },
   "cell_type": "code",
   "source": [
    "print(f'--- If P2 is type 0 ---')\n",
    "bimatrix.print_payoffs([u11, u21], [a1, a2])"
   ],
   "outputs": [
    {
     "name": "stdout",
     "output_type": "stream",
     "text": [
      "--- If P2 is type 0 ---\n"
     ]
    },
    {
     "data": {
      "text/plain": [
       "        L       R\n",
       "U  (3, 3)  (0, 4)\n",
       "D  (2, 1)  (1, 2)"
      ],
      "text/html": [
       "<div>\n",
       "<style scoped>\n",
       "    .dataframe tbody tr th:only-of-type {\n",
       "        vertical-align: middle;\n",
       "    }\n",
       "\n",
       "    .dataframe tbody tr th {\n",
       "        vertical-align: top;\n",
       "    }\n",
       "\n",
       "    .dataframe thead th {\n",
       "        text-align: right;\n",
       "    }\n",
       "</style>\n",
       "<table border=\"1\" class=\"dataframe\">\n",
       "  <thead>\n",
       "    <tr style=\"text-align: right;\">\n",
       "      <th></th>\n",
       "      <th>L</th>\n",
       "      <th>R</th>\n",
       "    </tr>\n",
       "  </thead>\n",
       "  <tbody>\n",
       "    <tr>\n",
       "      <th>U</th>\n",
       "      <td>(3, 3)</td>\n",
       "      <td>(0, 4)</td>\n",
       "    </tr>\n",
       "    <tr>\n",
       "      <th>D</th>\n",
       "      <td>(2, 1)</td>\n",
       "      <td>(1, 2)</td>\n",
       "    </tr>\n",
       "  </tbody>\n",
       "</table>\n",
       "</div>"
      ]
     },
     "execution_count": 5,
     "metadata": {},
     "output_type": "execute_result"
    }
   ],
   "execution_count": 5
  },
  {
   "cell_type": "code",
   "metadata": {
    "ExecuteTime": {
     "end_time": "2024-12-14T20:08:20.537121Z",
     "start_time": "2024-12-14T20:08:20.524828Z"
    }
   },
   "source": [
    "print(f'--- If P2 is type 1 ---')\n",
    "bimatrix.print_payoffs([u11, u22], [a1, a2])"
   ],
   "outputs": [
    {
     "name": "stdout",
     "output_type": "stream",
     "text": [
      "--- If P2 is type 1 ---\n"
     ]
    },
    {
     "data": {
      "text/plain": [
       "        L       R\n",
       "U  (3, 3)  (0, 2)\n",
       "D  (2, 0)  (1, 1)"
      ],
      "text/html": [
       "<div>\n",
       "<style scoped>\n",
       "    .dataframe tbody tr th:only-of-type {\n",
       "        vertical-align: middle;\n",
       "    }\n",
       "\n",
       "    .dataframe tbody tr th {\n",
       "        vertical-align: top;\n",
       "    }\n",
       "\n",
       "    .dataframe thead th {\n",
       "        text-align: right;\n",
       "    }\n",
       "</style>\n",
       "<table border=\"1\" class=\"dataframe\">\n",
       "  <thead>\n",
       "    <tr style=\"text-align: right;\">\n",
       "      <th></th>\n",
       "      <th>L</th>\n",
       "      <th>R</th>\n",
       "    </tr>\n",
       "  </thead>\n",
       "  <tbody>\n",
       "    <tr>\n",
       "      <th>U</th>\n",
       "      <td>(3, 3)</td>\n",
       "      <td>(0, 2)</td>\n",
       "    </tr>\n",
       "    <tr>\n",
       "      <th>D</th>\n",
       "      <td>(2, 0)</td>\n",
       "      <td>(1, 1)</td>\n",
       "    </tr>\n",
       "  </tbody>\n",
       "</table>\n",
       "</div>"
      ]
     },
     "execution_count": 6,
     "metadata": {},
     "output_type": "execute_result"
    }
   ],
   "execution_count": 6
  },
  {
   "cell_type": "markdown",
   "metadata": {},
   "source": [
    "## Wide form\n",
    "We first convert the game to wide matrix form "
   ]
  },
  {
   "cell_type": "code",
   "metadata": {
    "ExecuteTime": {
     "end_time": "2024-12-14T20:08:21.876071Z",
     "start_time": "2024-12-14T20:08:21.871994Z"
    }
   },
   "source": " t1, t2, A1, A2 = compute_full_matrix(U11, U2, p, [A1, a2])",
   "outputs": [],
   "execution_count": 7
  },
  {
   "cell_type": "code",
   "metadata": {
    "ExecuteTime": {
     "end_time": "2024-12-14T20:08:22.301370Z",
     "start_time": "2024-12-14T20:08:22.288787Z"
    }
   },
   "source": [
    "bimatrix.print_payoffs([t1, t2], [A1,  A2], 3)"
   ],
   "outputs": [
    {
     "data": {
      "text/plain": [
       "           LL          LR          RL          RR\n",
       "U  (3.0, 3.0)  (0.6, 2.2)  (2.4, 3.2)  (0.0, 2.4)\n",
       "D  (2.0, 0.2)  (1.2, 1.0)  (1.8, 0.4)  (1.0, 1.2)"
      ],
      "text/html": [
       "<div>\n",
       "<style scoped>\n",
       "    .dataframe tbody tr th:only-of-type {\n",
       "        vertical-align: middle;\n",
       "    }\n",
       "\n",
       "    .dataframe tbody tr th {\n",
       "        vertical-align: top;\n",
       "    }\n",
       "\n",
       "    .dataframe thead th {\n",
       "        text-align: right;\n",
       "    }\n",
       "</style>\n",
       "<table border=\"1\" class=\"dataframe\">\n",
       "  <thead>\n",
       "    <tr style=\"text-align: right;\">\n",
       "      <th></th>\n",
       "      <th>LL</th>\n",
       "      <th>LR</th>\n",
       "      <th>RL</th>\n",
       "      <th>RR</th>\n",
       "    </tr>\n",
       "  </thead>\n",
       "  <tbody>\n",
       "    <tr>\n",
       "      <th>U</th>\n",
       "      <td>(3.0, 3.0)</td>\n",
       "      <td>(0.6, 2.2)</td>\n",
       "      <td>(2.4, 3.2)</td>\n",
       "      <td>(0.0, 2.4)</td>\n",
       "    </tr>\n",
       "    <tr>\n",
       "      <th>D</th>\n",
       "      <td>(2.0, 0.2)</td>\n",
       "      <td>(1.2, 1.0)</td>\n",
       "      <td>(1.8, 0.4)</td>\n",
       "      <td>(1.0, 1.2)</td>\n",
       "    </tr>\n",
       "  </tbody>\n",
       "</table>\n",
       "</div>"
      ]
     },
     "execution_count": 8,
     "metadata": {},
     "output_type": "execute_result"
    }
   ],
   "execution_count": 8
  },
  {
   "cell_type": "markdown",
   "metadata": {},
   "source": [
    "## Removing strictly dominated strategies\n",
    "\n",
    "Looking for strictly dominated strategies: we know that if P2 is the Prisonner's Dilemma type, playing $R$ should be a strictly dominating strategy (defecting). And this comes out of running IESDS on the wide-form matrix representation of the game. "
   ]
  },
  {
   "cell_type": "code",
   "metadata": {
    "ExecuteTime": {
     "end_time": "2024-12-14T21:00:29.057017Z",
     "start_time": "2024-12-14T21:00:29.053295Z"
    }
   },
   "source": "A_, T_ = bimatrix.IESDS(A=[A1, A2], U=[t1, t2], DOPRINT=True)",
   "outputs": [],
   "execution_count": 57
  },
  {
   "cell_type": "markdown",
   "metadata": {},
   "source": [
    "Since those actions were strictly dominated, it suffices to focus on this reduced version of the game. "
   ]
  },
  {
   "cell_type": "code",
   "metadata": {
    "ExecuteTime": {
     "end_time": "2024-12-14T20:08:25.551568Z",
     "start_time": "2024-12-14T20:08:25.539607Z"
    }
   },
   "source": [
    "bimatrix.print_payoffs(T_, A_, 3)"
   ],
   "outputs": [
    {
     "data": {
      "text/plain": [
       "           RL          RR\n",
       "U  (2.4, 3.2)  (0.0, 2.4)\n",
       "D  (1.8, 0.4)  (1.0, 1.2)"
      ],
      "text/html": [
       "<div>\n",
       "<style scoped>\n",
       "    .dataframe tbody tr th:only-of-type {\n",
       "        vertical-align: middle;\n",
       "    }\n",
       "\n",
       "    .dataframe tbody tr th {\n",
       "        vertical-align: top;\n",
       "    }\n",
       "\n",
       "    .dataframe thead th {\n",
       "        text-align: right;\n",
       "    }\n",
       "</style>\n",
       "<table border=\"1\" class=\"dataframe\">\n",
       "  <thead>\n",
       "    <tr style=\"text-align: right;\">\n",
       "      <th></th>\n",
       "      <th>RL</th>\n",
       "      <th>RR</th>\n",
       "    </tr>\n",
       "  </thead>\n",
       "  <tbody>\n",
       "    <tr>\n",
       "      <th>U</th>\n",
       "      <td>(2.4, 3.2)</td>\n",
       "      <td>(0.0, 2.4)</td>\n",
       "    </tr>\n",
       "    <tr>\n",
       "      <th>D</th>\n",
       "      <td>(1.8, 0.4)</td>\n",
       "      <td>(1.0, 1.2)</td>\n",
       "    </tr>\n",
       "  </tbody>\n",
       "</table>\n",
       "</div>"
      ]
     },
     "execution_count": 10,
     "metadata": {},
     "output_type": "execute_result"
    }
   ],
   "execution_count": 10
  },
  {
   "cell_type": "markdown",
   "metadata": {},
   "source": [
    "## Solving \n",
    "Now we simply call a game theory solver to find all equilibria of the game. "
   ]
  },
  {
   "cell_type": "code",
   "metadata": {
    "ExecuteTime": {
     "end_time": "2024-12-14T20:08:28.601303Z",
     "start_time": "2024-12-14T20:08:28.563685Z"
    }
   },
   "source": [
    "eqs = list(nashpy.Game(T_[0], T_[1]).support_enumeration())\n",
    "print(f'Found {len(eqs)} equilibria')\n",
    "for i,eq in enumerate(eqs): \n",
    "    print(f'{i+1}: s1 = {eq[0]}, s2 = {eq[1]}')"
   ],
   "outputs": [
    {
     "name": "stdout",
     "output_type": "stream",
     "text": [
      "Found 3 equilibria\n",
      "1: s1 = [1. 0.], s2 = [1. 0.]\n",
      "2: s1 = [0. 1.], s2 = [0. 1.]\n",
      "3: s1 = [0.5 0.5], s2 = [0.625 0.375]\n"
     ]
    }
   ],
   "execution_count": 11
  },
  {
   "cell_type": "markdown",
   "metadata": {},
   "source": [
    "## A warning: calling `nashpy` on the full game\n",
    "\n",
    "Interestingly, it  seems that the nashpy `support_enumeration` is getting confused if we provide it the full game as opposed to eliminating strictly dominated strategies beforehand. "
   ]
  },
  {
   "cell_type": "code",
   "metadata": {
    "ExecuteTime": {
     "end_time": "2024-12-14T20:08:32.862896Z",
     "start_time": "2024-12-14T20:08:32.838210Z"
    }
   },
   "source": [
    "G = nashpy.Game(t1, t2)\n",
    "\n",
    "eqs = list(G.support_enumeration())\n",
    "print(f'Found {len(eqs)} equilibria')\n",
    "for i,eq in enumerate(eqs): \n",
    "    print(f'{i+1}: s1 = {eq[0]}, s2 = {eq[1]}')"
   ],
   "outputs": [
    {
     "name": "stdout",
     "output_type": "stream",
     "text": [
      "Found 2 equilibria\n",
      "1: s1 = [1. 0.], s2 = [0. 0. 1. 0.]\n",
      "2: s1 = [0. 1.], s2 = [0. 0. 0. 1.]\n"
     ]
    },
    {
     "name": "stderr",
     "output_type": "stream",
     "text": [
      "C:\\Users\\12646\\.conda\\envs\\game\\Lib\\site-packages\\nashpy\\algorithms\\support_enumeration.py:259: RuntimeWarning: \n",
      "An even number of (2) equilibria was returned. This\n",
      "indicates that the game is degenerate. Consider using another algorithm\n",
      "to investigate.\n",
      "                  \n",
      "  warnings.warn(warning, RuntimeWarning)\n"
     ]
    }
   ],
   "execution_count": 12
  },
  {
   "metadata": {
    "ExecuteTime": {
     "end_time": "2024-12-14T20:08:35.682855Z",
     "start_time": "2024-12-14T20:08:35.679265Z"
    }
   },
   "cell_type": "code",
   "source": "",
   "outputs": [],
   "execution_count": 12
  },
  {
   "metadata": {
    "ExecuteTime": {
     "end_time": "2024-12-14T20:08:36.001810Z",
     "start_time": "2024-12-14T20:08:35.997694Z"
    }
   },
   "cell_type": "code",
   "source": "",
   "outputs": [],
   "execution_count": 12
  },
  {
   "metadata": {
    "ExecuteTime": {
     "end_time": "2024-12-14T20:08:36.268391Z",
     "start_time": "2024-12-14T20:08:36.265198Z"
    }
   },
   "cell_type": "code",
   "source": "",
   "outputs": [],
   "execution_count": 12
  },
  {
   "metadata": {
    "ExecuteTime": {
     "end_time": "2024-12-14T20:08:37.202185Z",
     "start_time": "2024-12-14T20:08:37.198987Z"
    }
   },
   "cell_type": "code",
   "source": "",
   "outputs": [],
   "execution_count": 12
  },
  {
   "metadata": {
    "ExecuteTime": {
     "end_time": "2024-12-14T20:59:45.190994Z",
     "start_time": "2024-12-14T20:59:45.182610Z"
    }
   },
   "cell_type": "code",
   "source": [
    "def ex_ante_exp_comp(U1, U2, A1, A2, a1, a2, prior_2, prior_1, T1, T2, action_names=None): \n",
    "    '''\n",
    "        Assumes that only player 2's type varies \n",
    "        (this means that player 1 has one action per row in U1, \n",
    "         while 2 has nA2**2 (one choice per type))\n",
    "        Both players have one utility matrix for each realization \n",
    "        of player 2's type. \n",
    "         \n",
    "        INPUTS: \n",
    "            U1: list of 2 payoff matrices for player 1 (row player)\n",
    "            U2: list of 2 payoff matrices for player 2 (column player)\n",
    "            p: (scalar) Probability that player 2 is the first type \n",
    "            action_names: [optional] 2-list of names of actions (nA1 and nA2 long)\n",
    "            T1: list of player 1 types\n",
    "            T2: list of player 2 types\n",
    "        OUTPUTS: \n",
    "            payoff1, payoff2: wide-form payoff matrices suitable for finding the NE \n",
    "            A1, A2: names of actions \n",
    "    '''\n",
    "    # 2-player ex Ante Bayesian game formulation\n",
    "    \n",
    "    # Check the prior distribution are valid\n",
    "    for item in prior_1:\n",
    "        assert np.isscalar(prior_1[item])\n",
    "        assert prior_1[item] <= 1.0\n",
    "        assert prior_1[item] >= 0.0\n",
    "        \n",
    "    for item in prior_2:\n",
    "        assert np.isscalar(prior_2[item])\n",
    "        assert prior_2[item] <= 1.0\n",
    "        assert prior_2[item] >= 0.0\n",
    "        \n",
    "    prior_list = [prior_1, prior_2]\n",
    "    \n",
    "    num_a1, num_a2 = U1[0].shape    # Number of actions for player 1 and 2\n",
    "    num_T1, num_T2 = len(T1), len(T2)   # Number of types for player 1 and 2\n",
    "    \n",
    "    # Initialize wide payoff matrix \n",
    "    payoff1 = np.empty((num_a1*num_T1, num_a2*num_T2))\n",
    "    payoff2 = np.empty((num_a1*num_T1, num_a2*num_T2))\n",
    "    # print('payoff1', payoff1)\n",
    "    # print('payoff2', payoff2)\n",
    "        \n",
    "    # Construct self-type conditional belief of other player types, p( | t_n)\n",
    "    belief_construct(T1, T2, prior_1, prior_2)\n",
    "    belief_construct(T2, T1, prior_2, prior_1)\n",
    "    \n",
    "    # Compute interim expected utility for player 1\n",
    "    interim_exp_comp(cond_player='player 1', U_cond=U1, T_cond=T1, T_targ=T2, a_cond=a1, a_targ=a2, A_targ=A2)\n",
    "    # Compute interim expected utility for player 2\n",
    "    interim_exp_comp(cond_player='player 2', U_cond=U2, T_cond=T2, T_targ=T1, a_cond=a2, a_targ=a1, A_targ=A1)\n",
    "    \n",
    "    for i_row, strgy_1 in enumerate(A1):\n",
    "        for i_col, strgy_2 in enumerate(A2):\n",
    "            holder1 = []\n",
    "            holder2 = []\n",
    "            # Ex-ante expected utility for player 2\n",
    "            for indx_t2, t2 in enumerate(T2):\n",
    "                holder2.append(prior_2[t2] * interim_exp[t2][(strgy_2[indx_t2], strgy_1)])\n",
    "            for indx_t1, t1 in enumerate(T1):\n",
    "                holder1.append(prior_1[t1] * interim_exp[t1][(strgy_1[indx_t1], strgy_2)])\n",
    "            \n",
    "            payoff1[i_row, i_col] = sum(holder1)\n",
    "            payoff2[i_row, i_col] = sum(holder2)\n",
    "    \n",
    "    A1_indx, A2_indx = None, None\n",
    "    if action_names is not None:\n",
    "        action_name_1 = action_names[0]\n",
    "        action_name_2 = action_names[1]\n",
    "    else:\n",
    "        action_name_1, action_name_2 = None, None\n",
    "       \n",
    "    for count in range(len(T1)):\n",
    "        A1_indx = two_type_strgy_name_gen(A=A1_indx, action_name=action_name_1, num_a=num_a1)\n",
    "    for count in range(len(T2)):\n",
    "        A2_indx = two_type_strgy_name_gen(A=A2_indx, action_name=action_name_2, num_a=num_a2)\n",
    "    \n",
    "    # Code below only works for player 1 with type t11, player 2 with type t21, t22\n",
    "    # if action_names is None: \n",
    "    #     A1_indx = [f'{i}' for i in range(num_a1)]   # if T1 = {t11}\n",
    "    #     A2_indx = [f'{a}{b}' for a in range(num_a2) for b in range(num_a2)] # if T2 = {t21, t22}\n",
    "    # else:\n",
    "    #     assert len(action_names) == 2, f'Code only works for 2 players'\n",
    "    #     A1_indx = action_names[0]\n",
    "    #     assert len(A1_indx) == num_a1, f'Incorrect # of action names'\n",
    "    #     a2_name = action_names[1]\n",
    "    #     assert len(a2_name) == num_a2, f'Incorrect # of action names'\n",
    "    #     \n",
    "    #     A2_indx = [f'{a}{b}' for a in a2_name for b in a2_name]\n",
    "        \n",
    "    return payoff1, payoff2, A1_indx, A2_indx"
   ],
   "outputs": [],
   "execution_count": 51
  },
  {
   "metadata": {
    "ExecuteTime": {
     "end_time": "2024-12-14T22:25:36.632572Z",
     "start_time": "2024-12-14T22:25:36.622290Z"
    }
   },
   "cell_type": "code",
   "source": [
    "t1_mod, t2_mod, A1_mod, A2_mod = ex_ante_exp_comp(U1, U2, A1, A2, a1, a2, p_distri, q_distri, T1, T2, action_names=[A1, a2])\n",
    "bimatrix.print_payoffs([t1_mod, t2_mod], [A1_mod,  A2_mod], 3)"
   ],
   "outputs": [
    {
     "data": {
      "text/plain": [
       "           LL          LR          RL          RR\n",
       "U  (3.0, 3.0)  (0.6, 2.2)  (2.4, 3.2)  (0.0, 2.4)\n",
       "D  (2.0, 0.2)  (1.2, 1.0)  (1.8, 0.4)  (1.0, 1.2)"
      ],
      "text/html": [
       "<div>\n",
       "<style scoped>\n",
       "    .dataframe tbody tr th:only-of-type {\n",
       "        vertical-align: middle;\n",
       "    }\n",
       "\n",
       "    .dataframe tbody tr th {\n",
       "        vertical-align: top;\n",
       "    }\n",
       "\n",
       "    .dataframe thead th {\n",
       "        text-align: right;\n",
       "    }\n",
       "</style>\n",
       "<table border=\"1\" class=\"dataframe\">\n",
       "  <thead>\n",
       "    <tr style=\"text-align: right;\">\n",
       "      <th></th>\n",
       "      <th>LL</th>\n",
       "      <th>LR</th>\n",
       "      <th>RL</th>\n",
       "      <th>RR</th>\n",
       "    </tr>\n",
       "  </thead>\n",
       "  <tbody>\n",
       "    <tr>\n",
       "      <th>U</th>\n",
       "      <td>(3.0, 3.0)</td>\n",
       "      <td>(0.6, 2.2)</td>\n",
       "      <td>(2.4, 3.2)</td>\n",
       "      <td>(0.0, 2.4)</td>\n",
       "    </tr>\n",
       "    <tr>\n",
       "      <th>D</th>\n",
       "      <td>(2.0, 0.2)</td>\n",
       "      <td>(1.2, 1.0)</td>\n",
       "      <td>(1.8, 0.4)</td>\n",
       "      <td>(1.0, 1.2)</td>\n",
       "    </tr>\n",
       "  </tbody>\n",
       "</table>\n",
       "</div>"
      ]
     },
     "execution_count": 64,
     "metadata": {},
     "output_type": "execute_result"
    }
   ],
   "execution_count": 64
  },
  {
   "metadata": {
    "ExecuteTime": {
     "end_time": "2024-12-14T22:25:37.508715Z",
     "start_time": "2024-12-14T22:25:37.503638Z"
    }
   },
   "cell_type": "code",
   "source": "t2_mod",
   "outputs": [
    {
     "data": {
      "text/plain": [
       "array([[3. , 2.2, 3.2, 2.4],\n",
       "       [0.2, 1. , 0.4, 1.2]])"
      ]
     },
     "execution_count": 65,
     "metadata": {},
     "output_type": "execute_result"
    }
   ],
   "execution_count": 65
  },
  {
   "metadata": {
    "ExecuteTime": {
     "end_time": "2024-12-14T22:25:38.587469Z",
     "start_time": "2024-12-14T22:25:38.580857Z"
    }
   },
   "cell_type": "code",
   "source": [
    "A_, T_ = bimatrix.IESDS(A=[A1_mod, A2_mod], U=[t1_mod, t2_mod])\n",
    "bimatrix.print_payoffs(T_, A_, 3)"
   ],
   "outputs": [
    {
     "data": {
      "text/plain": [
       "           RL          RR\n",
       "U  (2.4, 3.2)  (0.0, 2.4)\n",
       "D  (1.8, 0.4)  (1.0, 1.2)"
      ],
      "text/html": [
       "<div>\n",
       "<style scoped>\n",
       "    .dataframe tbody tr th:only-of-type {\n",
       "        vertical-align: middle;\n",
       "    }\n",
       "\n",
       "    .dataframe tbody tr th {\n",
       "        vertical-align: top;\n",
       "    }\n",
       "\n",
       "    .dataframe thead th {\n",
       "        text-align: right;\n",
       "    }\n",
       "</style>\n",
       "<table border=\"1\" class=\"dataframe\">\n",
       "  <thead>\n",
       "    <tr style=\"text-align: right;\">\n",
       "      <th></th>\n",
       "      <th>RL</th>\n",
       "      <th>RR</th>\n",
       "    </tr>\n",
       "  </thead>\n",
       "  <tbody>\n",
       "    <tr>\n",
       "      <th>U</th>\n",
       "      <td>(2.4, 3.2)</td>\n",
       "      <td>(0.0, 2.4)</td>\n",
       "    </tr>\n",
       "    <tr>\n",
       "      <th>D</th>\n",
       "      <td>(1.8, 0.4)</td>\n",
       "      <td>(1.0, 1.2)</td>\n",
       "    </tr>\n",
       "  </tbody>\n",
       "</table>\n",
       "</div>"
      ]
     },
     "execution_count": 66,
     "metadata": {},
     "output_type": "execute_result"
    }
   ],
   "execution_count": 66
  },
  {
   "metadata": {
    "ExecuteTime": {
     "end_time": "2024-12-14T20:37:13.843255Z",
     "start_time": "2024-12-14T20:37:13.837495Z"
    }
   },
   "cell_type": "code",
   "source": [
    "def interim_exp_comp(cond_player, U_cond, T_cond, a_cond, a_targ, A_targ, T_targ):\n",
    "    # Compute interim expected utility under all pure strategies (2 player)\n",
    "    \n",
    "    for indx_t_c, t_c in enumerate(T_cond):\n",
    "        interim_exp[t_c] = {}\n",
    "        for indx_a_c, a_c in enumerate(a_cond):\n",
    "            # e.g: a_cond = ['U', 'D'], action space, not strategy space\n",
    "            # Fix one pure strategy, pi_n(t_n)\n",
    "            for strgy_t in A_targ:\n",
    "                # e.g. A_targ: = ['LL', 'LR', 'RL', 'RR'], strategy space, not action space\n",
    "                # if len(T_cond) == 2:\n",
    "                    # print('strgy_t', strgy_t)\n",
    "                holder = []\n",
    "                for indx_t_targ, a_t in enumerate(strgy_t):\n",
    "                    # Over 'L', 'R' in 'LR', p(t_{-n}|t_n) * u_n(t_n, t_{-n}, a_n, pi_{-n}(t_{-n}) for one type t_{-n}\n",
    "                    if '1' in cond_player:\n",
    "                        holder.append(U_cond[indx_t_c][indx_a_c, a_targ.index(a_t)] * belief[t_c][T_targ[indx_t_targ]])\n",
    "                    elif '2' in cond_player:\n",
    "                        holder.append(U_cond[indx_t_c][a_targ.index(a_t), indx_a_c] * belief[t_c][T_targ[indx_t_targ]])\n",
    "                    else:\n",
    "                        raise ValueError('interim_exp_comp error')\n",
    "                # Compute the interim expected utility for player n given its type t_n, and pure strategy pi_n(t_n) = a_n, and pi_{-n}\n",
    "                interim_exp[t_c][(a_c, strgy_t)] = sum(holder)\n",
    "    return None"
   ],
   "outputs": [],
   "execution_count": 43
  },
  {
   "metadata": {
    "ExecuteTime": {
     "end_time": "2024-12-14T20:08:42.803215Z",
     "start_time": "2024-12-14T20:08:42.797348Z"
    }
   },
   "cell_type": "code",
   "source": [
    "def belief_construct(T_cond, T_targ, cond_prior, targ_prior):\n",
    "    for t_cond in T_cond:\n",
    "        belief[t_cond]={}\n",
    "        for t_targ in T_targ:\n",
    "            # p(t_targ|t_cond)\n",
    "            belief[t_cond][t_targ]= targ_prior[t_targ]*cond_prior[t_cond] / cond_prior[t_cond]\n",
    "    return None"
   ],
   "outputs": [],
   "execution_count": 15
  },
  {
   "metadata": {
    "ExecuteTime": {
     "end_time": "2024-12-14T20:08:43.220337Z",
     "start_time": "2024-12-14T20:08:43.214963Z"
    }
   },
   "cell_type": "code",
   "source": [
    "interim_exp = {}\n",
    "ex_ante_exp = {}\n",
    "belief = {}\n",
    "belief_construct(T1, T2, prior_1, prior_2)\n",
    "interim_exp_comp('player 1', U1, T1, a1, a2, A2, T2)\n",
    "belief_construct(T2, T1, prior_2, prior_1)\n",
    "interim_exp_comp('player 2', U2, T2, a2, a1, A1, T1)"
   ],
   "outputs": [
    {
     "name": "stdout",
     "output_type": "stream",
     "text": [
      "strgy_t U\n",
      "strgy_t D\n",
      "strgy_t U\n",
      "strgy_t D\n",
      "strgy_t U\n",
      "strgy_t D\n",
      "strgy_t U\n",
      "strgy_t D\n"
     ]
    }
   ],
   "execution_count": 16
  },
  {
   "metadata": {
    "ExecuteTime": {
     "end_time": "2024-12-14T20:08:43.910344Z",
     "start_time": "2024-12-14T20:08:43.905248Z"
    }
   },
   "cell_type": "code",
   "source": "interim_exp",
   "outputs": [
    {
     "data": {
      "text/plain": [
       "{'SH_1': {('U', 'LL'): 3.0000000000000004,\n",
       "  ('U', 'LR'): 0.6000000000000001,\n",
       "  ('U', 'RL'): 2.4000000000000004,\n",
       "  ('U', 'RR'): 0.0,\n",
       "  ('D', 'LL'): 2.0,\n",
       "  ('D', 'LR'): 1.2000000000000002,\n",
       "  ('D', 'RL'): 1.8,\n",
       "  ('D', 'RR'): 1.0},\n",
       " 'PD_2': {('L', 'U'): 3.0, ('L', 'D'): 1.0, ('R', 'U'): 4.0, ('R', 'D'): 2.0},\n",
       " 'SH_2': {('L', 'U'): 3.0, ('L', 'D'): 0.0, ('R', 'U'): 2.0, ('R', 'D'): 1.0}}"
      ]
     },
     "execution_count": 17,
     "metadata": {},
     "output_type": "execute_result"
    }
   ],
   "execution_count": 17
  },
  {
   "metadata": {
    "ExecuteTime": {
     "end_time": "2024-12-14T20:08:44.280679Z",
     "start_time": "2024-12-14T20:08:44.274092Z"
    }
   },
   "cell_type": "code",
   "source": [
    "game_instance = {\n",
    "    'player 1': {\n",
    "        'p_1': {\n",
    "            'SH_1': 1.0\n",
    "        },\n",
    "        'A1': ['U', 'D'],\n",
    "        'SH_1 u_1': np.array([[3,0], [2,1]]),\n",
    "        'T1': ['SH_1']\n",
    "    },\n",
    "    'player 2': {\n",
    "        'p_2': {\n",
    "            'PD_2': 0.2,\n",
    "            'SH_2': 0.8\n",
    "        },\n",
    "        'A2': ['L', 'R'],\n",
    "        'PD_2 u_2': np.array([[3,4], [1,2]]),\n",
    "        'SH_2 u_2': np.array([[3,2], [0,1]]),\n",
    "        'T2': ['PD_2', 'SH_2']\n",
    "    }\n",
    "}"
   ],
   "outputs": [],
   "execution_count": 18
  },
  {
   "metadata": {
    "ExecuteTime": {
     "end_time": "2024-12-14T20:08:44.899724Z",
     "start_time": "2024-12-14T20:08:44.896270Z"
    }
   },
   "cell_type": "code",
   "source": [
    " # prior_list = [prior_1, prior_2]\n",
    " # for indx_T_cond, T_cond in enumerate([T1, T2]):\n",
    " #        prior_cond = prior_list[indx_T_cond]\n",
    " #        prior_targ = prior_list.remove(prior_cond)[0]\n",
    " #        T_targ = [T1, T2].remove(T_cond)\n",
    " #        belief_construct(T_cond, T_targ, prior_cond, prior_targ)"
   ],
   "outputs": [],
   "execution_count": 19
  },
  {
   "metadata": {
    "ExecuteTime": {
     "end_time": "2024-12-14T20:08:45.679077Z",
     "start_time": "2024-12-14T20:08:45.672480Z"
    }
   },
   "cell_type": "code",
   "source": [
    "def two_type_strgy_name_gen(A=None, action_name=None, num_a=1):\n",
    "    \"\"\"\n",
    "    Construct all pure strategies for one player\n",
    "    :param A: strategy construct holder, e.g. A = ['LL', 'LR', 'RL', 'RR']\n",
    "    :param num_a: number of actions in action space\n",
    "    \"\"\"\n",
    "    B = []\n",
    "    if A is not None:\n",
    "        if action_name is None:\n",
    "            for a in A:\n",
    "                for action_indx in range(num_a):\n",
    "                    B.append(f'{a}{action_indx}')\n",
    "        else:\n",
    "            for a in A:\n",
    "                for action in action_name:\n",
    "                  B.append(a+action)\n",
    "    else:\n",
    "        if action_name is None:\n",
    "            assert num_a >= 1\n",
    "            B = [f'{a_indx}' for a_indx in range(num_a)]\n",
    "        else:\n",
    "            assert type(action_name) is list\n",
    "            B = action_name\n",
    "    return B"
   ],
   "outputs": [],
   "execution_count": 20
  },
  {
   "metadata": {
    "ExecuteTime": {
     "end_time": "2024-12-14T20:08:48.470697Z",
     "start_time": "2024-12-14T20:08:48.465886Z"
    }
   },
   "cell_type": "code",
   "source": [
    "# A = None\n",
    "# action_name = ['L', 'R']\n",
    "# num_a = len(action_name)\n",
    "\n",
    "A = None\n",
    "action_name = None\n",
    "num_a = 2\n",
    "# A = two_type_strgy_name_gen(A=A, action_name=action_name, num_a=num_a)\n",
    "\n",
    "for count in range(3):\n",
    "    A = two_type_strgy_name_gen(A=A, action_name=action_name, num_a=num_a)\n",
    "    print('A', A)\n",
    "# A\n",
    "# AA = two_type_strgy_name_gen(A, action_name, num_a)\n",
    "# AAA = two_type_strgy_name_gen(AA, action_name, num_a)\n",
    "# AAA\n",
    "# two_type_strgy_name_gen()"
   ],
   "outputs": [
    {
     "name": "stdout",
     "output_type": "stream",
     "text": [
      "A ['0', '1']\n",
      "A ['00', '01', '10', '11']\n",
      "A ['000', '001', '010', '011', '100', '101', '110', '111']\n"
     ]
    }
   ],
   "execution_count": 21
  },
  {
   "metadata": {},
   "cell_type": "code",
   "outputs": [],
   "execution_count": null,
   "source": ""
  }
 ],
 "metadata": {
  "kernelspec": {
   "display_name": "Python 3",
   "language": "python",
   "name": "python3"
  },
  "language_info": {
   "codemirror_mode": {
    "name": "ipython",
    "version": 3
   },
   "file_extension": ".py",
   "mimetype": "text/x-python",
   "name": "python",
   "nbconvert_exporter": "python",
   "pygments_lexer": "ipython3",
   "version": "3.8.2"
  }
 },
 "nbformat": 4,
 "nbformat_minor": 4
}
